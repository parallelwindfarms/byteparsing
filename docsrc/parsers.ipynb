{
 "cells": [
  {
   "cell_type": "markdown",
   "metadata": {},
   "source": [
    "# Parsers\n",
    "\n",
    "## Parsing functions\n",
    "\n",
    "The `dataclass` `Parser` contains a single field, `func`.\n",
    "`func` is expected to be a function with the following signature:\n",
    "\n",
    "$$\n",
    "f: (Cursor, Aux) \\longrightarrow (data, Cursor, Aux)\n",
    "$$\n",
    "\n",
    "Wait a second! Why is the function returning something else than the `data` itself?\n",
    "\n",
    "The reason is that, apart from the obvious output of `data`, it is very convenient to return an **updated** `Cursor` and an **updated** `Aux`.\n",
    "Typically, the updated `Cursor` will contain only the remaining, non-parsed content of the data.\n",
    "This is very convenient if we want to concatenate different parsers, passing the output of the first to the next one... and so on.\n",
    "\n",
    "Let's see an example:\n",
    "\n",
    "In this example we will create a very simple parser, that just reads the first letter of a text string."
   ]
  },
  {
   "cell_type": "code",
   "execution_count": 1,
   "metadata": {},
   "outputs": [],
   "source": [
    "from byteparsing import Cursor"
   ]
  },
  {
   "cell_type": "code",
   "execution_count": 2,
   "metadata": {},
   "outputs": [],
   "source": [
    "# Create some data to be parsed\n",
    "data = b\"Hello world!\"\n",
    "\n",
    "# Initialize the Cursor\n",
    "c = Cursor(data, begin=0, end=0)\n",
    "\n",
    "# Use an empty auxiliary variable\n",
    "a = []\n",
    "\n",
    "# Create a parsing function\n",
    "def read_one(c, a):\n",
    "    c = c.increment() # Increase end index by one\n",
    "    x = c.content_str # Read content\n",
    "    c = c.flush() # Flush (i.e.: move begin to end)\n",
    "    return x, c, a"
   ]
  },
  {
   "cell_type": "markdown",
   "metadata": {},
   "source": [
    "In the snippet below we see why it is convenient to use the updated `Cursor`."
   ]
  },
  {
   "cell_type": "code",
   "execution_count": 3,
   "metadata": {},
   "outputs": [
    {
     "name": "stdout",
     "output_type": "stream",
     "text": [
      "H\n",
      "e\n",
      "l\n",
      "l\n",
      "o\n",
      " \n",
      "w\n",
      "o\n",
      "r\n",
      "l\n",
      "d\n",
      "!\n"
     ]
    }
   ],
   "source": [
    "while c:\n",
    "    x, c, a = read_one(c, a)\n",
    "    print(x)"
   ]
  },
  {
   "cell_type": "markdown",
   "metadata": {},
   "source": [
    "We can even write a new parsing function, based on the previous one, that parses to the end of the string:"
   ]
  },
  {
   "cell_type": "code",
   "execution_count": 4,
   "metadata": {},
   "outputs": [],
   "source": [
    "def read_all(c, a):\n",
    "    x = [] # Initialize as empty list\n",
    "    while c:\n",
    "        temp, c, a = read_one(c, a)\n",
    "        x.append(temp)\n",
    "    return x, c, a"
   ]
  },
  {
   "cell_type": "markdown",
   "metadata": {},
   "source": [
    "Let's try it:"
   ]
  },
  {
   "cell_type": "code",
   "execution_count": 5,
   "metadata": {},
   "outputs": [
    {
     "name": "stdout",
     "output_type": "stream",
     "text": [
      "['H', 'e', 'l', 'l', 'o', ' ', 'w', 'o', 'r', 'l', 'd', '!']\n",
      "Cursor(data=b'Hello world!', begin=12, end=12, encoding='utf-8')\n"
     ]
    }
   ],
   "source": [
    "# Restart the Cursor\n",
    "c = Cursor(data, begin=0, end=0)\n",
    "\n",
    "x, c, a = read_all(c, a)\n",
    "print(x)\n",
    "print(c)"
   ]
  },
  {
   "cell_type": "markdown",
   "metadata": {},
   "source": [
    "Notice that the composition of two parsing functions (say, $f$ and $g$) is slightly more complicated than $f \\circ g$, because the input and the output spaces of parsing functions are slightly different.\n",
    "\n",
    "For these and other reasons, it is advisable to manage parsing functions with a more flexible data structure.\n",
    "\n",
    "We introduce the Parser (data) class."
   ]
  },
  {
   "cell_type": "markdown",
   "metadata": {},
   "source": [
    "## The Parser class\n",
    "\n",
    "This section is work in progress.\n",
    "\n",
    "We'll manage parsing functions using a `Parser` class.\n",
    "`Parser` is a `dataclass` that contains a single field, `func`, representing a parser function.\n",
    "\n",
    "Let's build a `Parser` class from the `read_one` parsing function defined in the previous section:"
   ]
  },
  {
   "cell_type": "code",
   "execution_count": 6,
   "metadata": {},
   "outputs": [],
   "source": [
    "from byteparsing.trampoline import Parser, parser"
   ]
  },
  {
   "cell_type": "code",
   "execution_count": 7,
   "metadata": {},
   "outputs": [],
   "source": [
    "# Initialize the Cursor\n",
    "c = Cursor(data, begin=0, end=0)\n",
    "\n",
    "# Use an empty auxiliary variable\n",
    "a = []\n",
    "\n",
    "# Create a function\n",
    "def read_one(c, a):\n",
    "    c = c.increment() # Increase end index by one\n",
    "    x = c.content_str # Read content\n",
    "    c = c.flush() # Flush (i.e.: move begin to end)\n",
    "    return x, c, a\n",
    "\n",
    "read_one_p = Parser(read_one)"
   ]
  },
  {
   "cell_type": "markdown",
   "metadata": {},
   "source": [
    "Note: the lines above are entirely equivalent to:\n",
    "\n",
    "```python\n",
    "@parser\n",
    "def read_one_p(c, a):\n",
    "    c = c.increment() # Increase end index by one\n",
    "    x = c.content_str # Read content\n",
    "    c = c.flush() # Flush (i.e.: move begin to end)\n",
    "    return x, c, a\n",
    "```"
   ]
  },
  {
   "cell_type": "markdown",
   "metadata": {},
   "source": [
    "Parsers are callable, but they don't return anything informative until they are invoked:"
   ]
  },
  {
   "cell_type": "code",
   "execution_count": 8,
   "metadata": {},
   "outputs": [
    {
     "name": "stdout",
     "output_type": "stream",
     "text": [
      "Call(p=<function read_one at 0x7fa3bb735b90>, cursor=Cursor(data=b'Hello world!', begin=0, end=0, encoding='utf-8'), aux=[])\n"
     ]
    }
   ],
   "source": [
    "print(read_one_p(c, a)) # Whithout invoking"
   ]
  },
  {
   "cell_type": "code",
   "execution_count": 9,
   "metadata": {},
   "outputs": [
    {
     "name": "stdout",
     "output_type": "stream",
     "text": [
      "H\n",
      "Cursor(data=b'Hello world!', begin=1, end=1, encoding='utf-8')\n"
     ]
    }
   ],
   "source": [
    "x, c, a = read_one_p(c, a).invoke()\n",
    "print(x)\n",
    "print(c)"
   ]
  },
  {
   "attachments": {},
   "cell_type": "markdown",
   "metadata": {},
   "source": [
    "## Parser grammar\n",
    "\n",
    "### Primitives\n",
    "\n",
    "The boundary between what we consider *primitives* and derived parsers can become a bit vague, nevertheless here is a selection of the most important primitive parsers.\n",
    "\n",
    "`value(x)`\n",
    ": Always succeeds, doesn't consume input, returns `x`\n",
    "\n",
    "`fail(msg)`\n",
    ": Always fails, raises an exception with `msg` as text.\n",
    "\n",
    "`item`\n",
    ": Get a single byte from the stream.\n",
    "\n",
    "`text_literal(str)`\n",
    ": Succeeds if the next characters in the stream exactly match `str`.\n",
    "\n",
    "`char_pred(pred)`\n",
    ": Advances the end of the cursor if `pred` succeeds.\n",
    "\n",
    "`text_end_by(char)`\n",
    ": Advances the end of the cursor as until `char` is found.\n",
    "\n",
    "`push(x)`\n",
    ": Push a value on the auxiliary stack.\n",
    "\n",
    "`pop()`\n",
    ": Pop a value from the auxiliary stack.\n",
    "\n",
    "We also defined some derived parsers that should be useful in most contexts.\n",
    "\n",
    "`whitespace`\n",
    ": Matches tabs spaces and newlines.\n",
    "\n",
    "`eol`\n",
    ": Matches End of Line characters (_i.e.:_ either `\\n` or `\\n\\r`).\n",
    "\n",
    "`integer`\n",
    ": Matches an integer value.\n",
    "\n",
    "`scientific_number`\n",
    ": Matches a floating point number, possibly in scientific notation.\n",
    "\n",
    "### Combinators\n",
    "\n",
    "<!-- This package is strongly based on Haskell's syntax and philosophy. But Python is obviously not Haskell. That is to say, there is no nice syntax for monadic actions. In order to solve this issue, we developed a similar grammar for Python. Below, we present a description of such a grammar. -->\n",
    "The next question is, how can we combine our primitive parsers? We already listed the main combinators briefly, here we go into a little more detail.\n",
    "\n",
    "`choice(*p)`\n",
    ": Tries every parser `p` in sequence until one succeeds. If all fail, `choice` gathers all exceptions and composes an error message from that.\n",
    "\n",
    "`sequence(*p)`\n",
    ": Runs every parser `p` in sequence and only returns the result of the last one.\n",
    "\n",
    "`named_sequence(**p)`\n",
    ": Runs every parser `p` in sequence and stores results in a dictionary. Keys that start with an underscore are not stored.\n",
    "\n",
    "`many(p)`\n",
    ": Runs the parser `p` until it fails. Returns a list of parsed items.\n",
    "\n",
    "`some(p)`\n",
    ": Parses `p` at least one time, or fail.\n",
    "\n",
    "The `many` and `some` combinators come in several flavours. Both have a variant called `many_char` and `some_char` that return a string instead of a list. One more flavour is `many_char_0` and `some_char_0` that do not flush the cursor.\n",
    "\n",
    "Some derived combinators help us shape a little language to describe grammars.\n",
    "\n",
    "`optional(p, default=None)`\n",
    ": Parses `p` or gives the default value.\n",
    "\n",
    "`tokenize(p)`\n",
    ": Parses `p` followed by optional whitespace. This makes sure we always start at the next token.\n",
    "\n",
    "`fmap(f)`\n",
    ": Takes a function `f`, returns a lambda that maps an argument through `f` to a `value` parser. That sounds complicated, but it allows us to pass a parsed result through `f` using the `>>` operator. For an example, see the PPM parser at the end of this paper.\n",
    "\n",
    "### `named_sequence` and `construct`\n",
    "\n",
    "The `named_sequence` combinator forms a particularly useful pair with the `construct` function. Used on its own, the `named_sequence` creates a dictionary. Many times when we're parsing, we want our results to form some class. The `construct` function takes a dictionary and constructs an object by forwarding the dictionary as keyword arguments.\n",
    "\n",
    "```python\n",
    "@dataclass\n",
    "Point:\n",
    "  x: float\n",
    "  y: float\n",
    "```\n",
    "\n",
    "```python\n",
    "point = named_sequence(\n",
    "  _1=tokenize(char(\"(\")),\n",
    "  x=tokenize(scientific_number),\n",
    "  _2=tokenize(char(\",\"))\n",
    "  y=tokenize(scientific_number),\n",
    "  _3=tokenize(char(\")\"))\n",
    "  ) >> construct(Point)\n",
    "```\n",
    "\n",
    "The `point` parser then constructs `Point` objects, such that\n",
    "\n",
    "```python\n",
    "parse_bytes(point, b\"(1, 2)\")\n",
    "```\n",
    "\n",
    "gives `Point(x=1, y=2)` as output.\n",
    "\n",
    "### `using_config` and `with_config`\n",
    "We may use the auxiliary stack to store a config variable that can be accessed from any parser. To make this use a bit more user-friendly, we define two functions: `with_config()` and the `@use_config` decorator. Functions decorated with `@use_config` should have the last argument be the `config` variable. The `with_config` parser sets a config dictionary to be the bottom of the auxiliary stack.\n",
    "\n",
    "Example: We have as input a number and a string. The string is returned in upper-case if the number is 1:\n",
    "\n",
    "```python\n",
    "@using_config\n",
    "def set_case(x, config):\n",
    "    config[\"uppercase\"] = (x == 1)\n",
    "    return value(None)\n",
    "\n",
    "@using_config\n",
    "def get_text(config):\n",
    "    if config[\"uppercase\"]:\n",
    "        return many_char(item, lambda x: x.decode().upper())\n",
    "    else:\n",
    "        return many_char(item, lambda x: x.decode())\n",
    "\n",
    "assert parse_bytes(\n",
    "    with_config(sequence(integer >> set_case, get_text())),\n",
    "    b'0hello') == \"hello\"\n",
    "assert parse_bytes(\n",
    "    with_config(sequence(integer >> set_case, get_text())),\n",
    "    b'1hello') == \"HELLO\"\n",
    "```"
   ]
  }
 ],
 "metadata": {
  "kernelspec": {
   "display_name": "Python 3",
   "language": "python",
   "name": "python3"
  },
  "language_info": {
   "codemirror_mode": {
    "name": "ipython",
    "version": 3
   },
   "file_extension": ".py",
   "mimetype": "text/x-python",
   "name": "python",
   "nbconvert_exporter": "python",
   "pygments_lexer": "ipython3",
   "version": "3.8.10 (default, Nov 14 2022, 12:59:47) \n[GCC 9.4.0]"
  },
  "vscode": {
   "interpreter": {
    "hash": "916dbcbb3f70747c44a77c7bcd40155683ae19c65e1c03b4aa3499c5328201f1"
   }
  }
 },
 "nbformat": 4,
 "nbformat_minor": 4
}
