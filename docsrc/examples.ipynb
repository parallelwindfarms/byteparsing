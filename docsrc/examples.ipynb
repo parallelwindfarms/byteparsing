{
 "metadata": {
  "language_info": {
   "codemirror_mode": {
    "name": "ipython",
    "version": 3
   },
   "file_extension": ".py",
   "mimetype": "text/x-python",
   "name": "python",
   "nbconvert_exporter": "python",
   "pygments_lexer": "ipython3",
   "version": "3.7.7-final"
  },
  "orig_nbformat": 2,
  "kernelspec": {
   "name": "python37464bitanaconda3virtualenv14810d6c473e49049cbc1e24a5530a71",
   "display_name": "Python 3.7.4 64-bit ('anaconda3': virtualenv)",
   "language": "python"
  }
 },
 "nbformat": 4,
 "nbformat_minor": 2,
 "cells": [
  {
   "source": [
    "# Examples of usage"
   ],
   "cell_type": "markdown",
   "metadata": {}
  },
  {
   "cell_type": "code",
   "execution_count": 1,
   "metadata": {},
   "outputs": [],
   "source": [
    "from byteparsing.parsers import *"
   ]
  },
  {
   "source": [
    "## Parsing an email address\n",
    "\n",
    "An email address typically contains three pieces of information:\n",
    "\n",
    "- User\n",
    "- Server\n",
    "- Country / Domain\n",
    "\n",
    "This information is easy to parse with the naked eye:\n",
    "\n",
    "```sh\n",
    "[user]@[server].[country]\n",
    "```\n",
    "\n",
    "A parser, of course, has no eyes. \n",
    "Nor common sense. \n",
    "So we'll need to use some explicit instructions.\n",
    "What about the following?\n",
    "\n",
    "0. Keep in mind that not all chars are valid for an email.\n",
    "1. The first email-valid chars constitute the `user` field. It should contain at least one char.\n",
    "2. We continue, and we expect to find an \"@\" here. We ignore it, and continue. The next email-valid chars after the \"@\" correspond to the `server` field. It should contain at least one char.\n",
    "3. We continue, and we expect to find a \".\" here. We ignore it, and continue. The next email-valid chars after the \".\" correspond to the `country` field. It should contain at least one char. \n",
    "\n",
    "In the example below, you can see the implementation of this algorithm.\n"
   ],
   "cell_type": "markdown",
   "metadata": {}
  },
  {
   "source": [
    "# First, we define what charachters are acceptable on an email (email-valid chars)\n",
    "email_char = choice(ascii_alpha_num, ascii_underscore)\n",
    "\n",
    "# We abstract the information contained in an email as:\n",
    "# [user]@[server].[country]\n",
    "email = named_sequence( # Our expected result will be (user, server, country)\n",
    "        user=some_char(email_char), # Step 1\n",
    "        server=sequence(text_literal(\"@\"), flush(), some_char(email_char)), # Step 2\n",
    "        country=sequence(text_literal(\".\"), flush(), some_char(email_char)) # Step 3\n",
    ")"
   ],
   "cell_type": "code",
   "metadata": {},
   "execution_count": 2,
   "outputs": []
  },
  {
   "source": [
    "We can try it with a quick example:"
   ],
   "cell_type": "markdown",
   "metadata": {}
  },
  {
   "cell_type": "code",
   "execution_count": 3,
   "metadata": {},
   "outputs": [
    {
     "output_type": "stream",
     "name": "stdout",
     "text": [
      "{'user': b'pab', 'server': b'rod', 'country': b'es'}\n"
     ]
    }
   ],
   "source": [
    "raw_input = b'pab@rod.es'\n",
    "\n",
    "# Check that everything goes as expected\n",
    "assert parse_bytes(email, raw_input)['user'] == b\"pab\"\n",
    "assert parse_bytes(email, raw_input)['server'] == b\"rod\"\n",
    "assert parse_bytes(email, raw_input)['country'] == b\"es\"\n",
    "\n",
    "print(parse_bytes(email, raw_input))"
   ]
  }
 ]
}