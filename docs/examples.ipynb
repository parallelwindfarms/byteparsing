{
 "cells": [
  {
   "cell_type": "markdown",
   "metadata": {},
   "source": [
    "# Examples of usage\n",
    "\n",
    "In this section we'll show several examples of usage of the `byteparsing` package.\n",
    "\n",
    "First of all, of course, we'll need to have the package installed.\n",
    "If you have not done it before, you can comfortably install the latest stable version using:\n",
    "\n",
    "```{.console}\n",
    "pip install byteparsing\n",
    "```\n",
    "\n",
    "If you feel adventurous and want to try the very latest development version, use this instead:\n",
    "\n",
    "```{.console}\n",
    "git clone https://github.com/parallelwindfarms/byteparsing.git\n",
    "cd byteparsing\n",
    "pip install .\n",
    "```\n",
    "\n",
    "Once installed, of course, you'll need to import it:"
   ]
  },
  {
   "cell_type": "code",
   "execution_count": 1,
   "metadata": {},
   "outputs": [],
   "source": [
    "from byteparsing.parsers import *"
   ]
  },
  {
   "cell_type": "markdown",
   "metadata": {},
   "source": [
    "## Parsing an email address\n",
    "\n",
    "An email address typically contains three pieces of information:\n",
    "\n",
    "- User\n",
    "- Server\n",
    "- Country / Domain\n",
    "\n",
    "This information is easy to parse with the naked eye:\n",
    "\n",
    "```sh\n",
    "[user]@[server].[country]\n",
    "```\n",
    "\n",
    "A parser, of course, has no eyes. \n",
    "Nor common sense. \n",
    "So we'll need to use some explicit instructions.\n",
    "What about the following?\n",
    "\n",
    "0. Keep in mind that not all chars are valid for an email.\n",
    "1. The first email-valid chars constitute the `user` field. It should contain at least one char.\n",
    "2. We continue, and we expect to find an \"@\" here. We ignore it, and continue. The next email-valid chars after the \"@\" correspond to the `server` field. It should contain at least one char.\n",
    "3. We continue, and we expect to find a \".\" here. We ignore it, and continue. The next email-valid chars after the \".\" correspond to the `country` field. It should contain at least one char. \n",
    "\n",
    "In the example below, you can see the implementation of this algorithm.\n"
   ]
  },
  {
   "cell_type": "code",
   "execution_count": 2,
   "metadata": {},
   "outputs": [],
   "source": [
    "# First, we define what charachters are acceptable on an email (email-valid chars)\n",
    "email_char = choice(ascii_alpha_num, ascii_underscore)\n",
    "\n",
    "# We abstract the information contained in an email as:\n",
    "# [user]@[server].[country]\n",
    "email = named_sequence( # Our expected result will be (user, server, country)\n",
    "        user=some_char(email_char), # Step 1\n",
    "        server=sequence(text_literal(\"@\"), flush(), some_char(email_char)), # Step 2\n",
    "        country=sequence(text_literal(\".\"), flush(), some_char(email_char)) # Step 3\n",
    ")"
   ]
  },
  {
   "cell_type": "markdown",
   "metadata": {},
   "source": [
    "Let's apply to a made-up email address and see if it works:"
   ]
  },
  {
   "cell_type": "code",
   "execution_count": 3,
   "metadata": {},
   "outputs": [
    {
     "name": "stdout",
     "output_type": "stream",
     "text": [
      "{'user': b'pab', 'server': b'rod', 'country': b'es'}\n"
     ]
    }
   ],
   "source": [
    "parsed = parse_bytes(email, b'pab@rod.es')\n",
    "\n",
    "print(parsed)"
   ]
  },
  {
   "cell_type": "markdown",
   "metadata": {},
   "source": [
    "Notice that we used the `parse_bytes` method to actually apply the parser.\n",
    "We'll use this method very often, so it is good to stop for a moment and reflect about its structure.\n",
    "Typically, `parse_bytes` will take two arguments as an input:\n",
    "\n",
    "1. A parser, indicating the kind of data we expect.\n",
    "2. The data itself.\n",
    "\n",
    "The output will be the parsed data."
   ]
  }
 ],
 "metadata": {
  "kernelspec": {
   "display_name": "Python 3.7.4 64-bit ('anaconda3': virtualenv)",
   "language": "python",
   "name": "python37464bitanaconda3virtualenv14810d6c473e49049cbc1e24a5530a71"
  },
  "language_info": {
   "codemirror_mode": {
    "name": "ipython",
    "version": 3
   },
   "file_extension": ".py",
   "mimetype": "text/x-python",
   "name": "python",
   "nbconvert_exporter": "python",
   "pygments_lexer": "ipython3",
   "version": "3.7.7-final"
  }
 },
 "nbformat": 4,
 "nbformat_minor": 2
}
