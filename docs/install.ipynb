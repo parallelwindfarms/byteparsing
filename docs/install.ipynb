{
 "cells": [
  {
   "cell_type": "markdown",
   "metadata": {},
   "source": [
    "# Installation\n",
    "\n",
    "## Latest stable version\n",
    "\n",
    "You can comfortably install the latest stable version using:\n",
    "\n",
    "```{.console}\n",
    "pip install byteparsing\n",
    "```\n",
    "\n",
    "## Development version\n",
    "\n",
    "If you feel adventurous and want to try the very latest version, use this instead:\n",
    "\n",
    "```{.console}\n",
    "git clone https://github.com/parallelwindfarms/byteparsing.git\n",
    "cd byteparsing\n",
    "pip install .\n",
    "```"
   ]
  }
 ],
 "metadata": {
  "kernelspec": {
   "display_name": "Python 3",
   "language": "python",
   "name": "python3"
  },
  "language_info": {
   "codemirror_mode": {
    "name": "ipython",
    "version": 3
   },
   "file_extension": ".py",
   "mimetype": "text/x-python",
   "name": "python",
   "nbconvert_exporter": "python",
   "pygments_lexer": "ipython3",
   "version": "3.7.7"
  }
 },
 "nbformat": 4,
 "nbformat_minor": 4
}
