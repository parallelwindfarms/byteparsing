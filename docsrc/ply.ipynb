{
 "cells": [
  {
   "cell_type": "markdown",
   "metadata": {},
   "source": [
    "# Advanced example: parsing PLY files\n",
    "\n",
    "PLY is a file format storing 3D polygonal data that has support for both ASCII and binary formats. Some references: [Wikipedia entry](https://en.wikipedia.org/wiki/PLY_(file_format)) and [Paul Bourke's pages](http://paulbourke.net/dataformats/ply/)."
   ]
  },
  {
   "cell_type": "code",
   "execution_count": 1,
   "metadata": {},
   "outputs": [],
   "source": [
    "from __future__ import annotations\n",
    "from typing import Optional\n",
    "from dataclasses import dataclass\n",
    "from functools import partial\n",
    "import numpy as np\n",
    "import pprint\n",
    "\n",
    "from byteparsing import (parse_bytes)\n",
    "from byteparsing.trampoline import (Parser, parser)\n",
    "from byteparsing.parsers import (\n",
    "    sequence, named_sequence, choice, optional, value, repeat_n,\n",
    "    text_literal, char, text_one_of, text_end_by,\n",
    "    byte_none_of, byte_one_of,\n",
    "    flush, flush_decode,\n",
    "    push, pop,\n",
    "    many, some, many_char, some_char, many_char_0, some_char_0,\n",
    "    ascii_alpha, ascii_underscore, ascii_alpha_num,\n",
    "    integer, scientific_number, array, binary_value,\n",
    "    fmap, construct)\n",
    "\n",
    "pp = pprint.PrettyPrinter(indent=2, width=80)"
   ]
  },
  {
   "cell_type": "markdown",
   "metadata": {},
   "source": [
    "## Header\n",
    "\n",
    "The header starts with a \"magic number\", a line containing `ply`."
   ]
  },
  {
   "cell_type": "code",
   "execution_count": 2,
   "metadata": {},
   "outputs": [],
   "source": [
    "eol = choice(text_literal(\"\\n\"), text_literal(\"\\n\\r\"))\n",
    "ply_magic_number = sequence(text_literal(\"ply\"), eol)"
   ]
  },
  {
   "cell_type": "markdown",
   "metadata": {},
   "source": [
    "The second line indicates which variation of the PLY format this is."
   ]
  },
  {
   "cell_type": "code",
   "execution_count": 3,
   "metadata": {},
   "outputs": [],
   "source": [
    "from enum import Enum\n",
    "\n",
    "class PlyFormat(Enum):\n",
    "    ASCII = 1\n",
    "    BINARY_LE = 2\n",
    "    BINARY_BE = 3\n",
    "    \n",
    "    @staticmethod\n",
    "    def from_string(s: str) -> PlyFormat:\n",
    "        if s == \"ascii\":\n",
    "            return PlyFormat.ASCII\n",
    "        if s == \"binary_little_endian\":\n",
    "            return PlyFormat.BINARY_LE\n",
    "        if s == \"binary_big_endian\":\n",
    "            return PlyFormat.BINARY_BE\n",
    "        else:\n",
    "            raise ValueError(f\"Unrecognized format string: {s}\")"
   ]
  },
  {
   "cell_type": "code",
   "execution_count": 4,
   "metadata": {},
   "outputs": [],
   "source": [
    "def tokenize(p: Parser) -> Parser:\n",
    "    return sequence(p >> push, many_char(text_one_of(\" \")), pop())\n",
    "\n",
    "word = sequence(\n",
    "    flush(), ascii_alpha, many_char_0(choice(ascii_alpha_num, ascii_underscore)),\n",
    "    flush_decode())"
   ]
  },
  {
   "cell_type": "code",
   "execution_count": 5,
   "metadata": {},
   "outputs": [],
   "source": [
    "ply_format = sequence(\n",
    "    tokenize(text_literal(\"format\")),\n",
    "    tokenize(word) >> fmap(PlyFormat.from_string) >> push,\n",
    "    tokenize(text_literal(\"1.0\")), eol, pop())"
   ]
  },
  {
   "cell_type": "code",
   "execution_count": 6,
   "metadata": {},
   "outputs": [
    {
     "data": {
      "text/plain": [
       "<PlyFormat.BINARY_LE: 2>"
      ]
     },
     "execution_count": 6,
     "metadata": {},
     "output_type": "execute_result"
    }
   ],
   "source": [
    "parse_bytes(ply_format, b\"format binary_little_endian 1.0\\n\")"
   ]
  },
  {
   "cell_type": "markdown",
   "metadata": {},
   "source": [
    "Comments may be placed in the header by using the word comment at the start of the line. Everything from there until the end of the line should then be ignored."
   ]
  },
  {
   "cell_type": "code",
   "execution_count": 7,
   "metadata": {},
   "outputs": [],
   "source": [
    "ply_comment = sequence(\n",
    "    tokenize(text_literal(\"comment\")), flush(),\n",
    "    text_end_by(\"\\n\") >> push, optional(char(\"\\r\")), pop())"
   ]
  },
  {
   "cell_type": "code",
   "execution_count": 8,
   "metadata": {},
   "outputs": [],
   "source": [
    "ply_type_table = {\n",
    "    \"char\": \"int8\",\n",
    "    \"uchar\": \"uint8\",\n",
    "    \"short\": \"int16\",\n",
    "    \"ushort\": \"uint16\",\n",
    "    \"int\": \"int32\",\n",
    "    \"uint\": \"uint32\",\n",
    "    \"float\": \"float32\",\n",
    "    \"double\": \"float64\"\n",
    "}\n",
    "\n",
    "class PlyType:\n",
    "    pass\n",
    "\n",
    "@dataclass\n",
    "class PlyPrimitiveType(PlyType):\n",
    "    dtype: np.dtype\n",
    "        \n",
    "    @staticmethod\n",
    "    def from_string(s: str) -> PlyPrimitiveType:\n",
    "        sanitized_name = ply_type_table.get(s, s)\n",
    "        return PlyPrimitiveType(np.dtype(sanitized_name))\n",
    "    \n",
    "    @property\n",
    "    def byte_size(self) -> int:\n",
    "        return self.dtype.itemsize\n",
    "    \n",
    "    def ascii(self) -> Parser:\n",
    "        return sequence(\n",
    "            flush(), some_char_0(byte_none_of(b\"\\n \")),\n",
    "            many_char_0(byte_one_of(b\"\\n \")), flush(self.dtype.type))\n",
    "    \n",
    "    def binary(self) -> Parser:\n",
    "        return binary_value(self.dtype)\n",
    "    \n",
    "@dataclass\n",
    "class PlyListType(PlyType):\n",
    "    size_type: PlyPrimitiveType\n",
    "    value_type: PlyPrimitiveType\n",
    "    \n",
    "    def ascii(self) -> Parser:\n",
    "        return self.size_type.ascii() >> partial(repeat_n, self.value_type.ascii())\n",
    "    \n",
    "    def binary(self) -> Parser:\n",
    "        return binary_value(self.size_type.dtype) >> partial(array, self.value_type.dtype)"
   ]
  },
  {
   "cell_type": "code",
   "execution_count": 9,
   "metadata": {},
   "outputs": [],
   "source": [
    "primitive_type = tokenize(word) >> fmap(PlyPrimitiveType.from_string)\n",
    "\n",
    "list_type = named_sequence(\n",
    "    _1=tokenize(text_literal(\"list\")),\n",
    "    size_type=primitive_type,\n",
    "    value_type=primitive_type) >> construct(PlyListType)\n",
    "\n",
    "ply_type = choice(list_type, primitive_type)"
   ]
  },
  {
   "cell_type": "code",
   "execution_count": 10,
   "metadata": {},
   "outputs": [
    {
     "data": {
      "text/plain": [
       "PlyPrimitiveType(dtype=dtype('float32'))"
      ]
     },
     "execution_count": 10,
     "metadata": {},
     "output_type": "execute_result"
    }
   ],
   "source": [
    "parse_bytes(ply_type, b\"float float\")"
   ]
  },
  {
   "cell_type": "code",
   "execution_count": 11,
   "metadata": {},
   "outputs": [
    {
     "name": "stdout",
     "output_type": "stream",
     "text": [
      "PlyListType(size_type=PlyPrimitiveType(dtype=dtype('uint8')), value_type=PlyPrimitiveType(dtype=dtype('float32')))\n"
     ]
    }
   ],
   "source": [
    "pp.pprint(parse_bytes(ply_type, b\"list uint8 float\"))"
   ]
  },
  {
   "cell_type": "code",
   "execution_count": 12,
   "metadata": {},
   "outputs": [],
   "source": [
    "@dataclass\n",
    "class PlyProperty:\n",
    "    dtype: PlyType\n",
    "    name: str\n",
    "\n",
    "ply_property = named_sequence(\n",
    "    _1=tokenize(text_literal(\"property\")),\n",
    "    dtype=ply_type,\n",
    "    name=tokenize(word),\n",
    "    _2=eol) >> construct(PlyProperty)"
   ]
  },
  {
   "cell_type": "code",
   "execution_count": 13,
   "metadata": {},
   "outputs": [
    {
     "data": {
      "text/plain": [
       "PlyProperty(dtype=PlyPrimitiveType(dtype=dtype('float32')), name='x')"
      ]
     },
     "execution_count": 13,
     "metadata": {},
     "output_type": "execute_result"
    }
   ],
   "source": [
    "parse_bytes(\n",
    "    ply_property,\n",
    "    b\"property float x\\n\")"
   ]
  },
  {
   "cell_type": "code",
   "execution_count": 14,
   "metadata": {},
   "outputs": [],
   "source": [
    "end_header = sequence(text_literal(\"end_header\"), eol)"
   ]
  },
  {
   "cell_type": "code",
   "execution_count": 15,
   "metadata": {},
   "outputs": [],
   "source": [
    "@dataclass\n",
    "class PlyElement:\n",
    "    name: str\n",
    "    size: int\n",
    "    properties: List[PlyProperty]\n",
    "        \n",
    "    def ascii(self) -> Parser:\n",
    "        single_item = named_sequence(\n",
    "            **{p.name: p.dtype.ascii() for p in self.properties})\n",
    "        return repeat_n(single_item, self.size)\n",
    "    \n",
    "    @property\n",
    "    def afine(self) -> bool:\n",
    "        return all(isinstance(p.dtype, PlyPrimitiveType)\n",
    "                   for p in self.properties)\n",
    "    \n",
    "    def binary(self) -> Parser:\n",
    "        if self.afine:\n",
    "            compound_type = [(p.name, p.dtype.dtype) for p in self.properties]\n",
    "            return array(compound_type, self.size)\n",
    "        else:\n",
    "            single_item = named_sequence(\n",
    "                **{p.name: p.dtype.binary() for p in self.properties})\n",
    "            return repeat_n(single_item, self.size)\n",
    "    \n",
    "\n",
    "ply_element = named_sequence(\n",
    "    _1=tokenize(text_literal(\"element\")),\n",
    "    name=tokenize(word),\n",
    "    size=tokenize(integer),\n",
    "    _2=eol,\n",
    "    properties=some(ply_property)) >> construct(PlyElement)"
   ]
  },
  {
   "cell_type": "code",
   "execution_count": 16,
   "metadata": {},
   "outputs": [
    {
     "data": {
      "text/plain": [
       "[PlyElement(name='vertex', size=8, properties=[PlyProperty(dtype=PlyPrimitiveType(dtype=dtype('float32')), name='x'), PlyProperty(dtype=PlyPrimitiveType(dtype=dtype('float32')), name='y'), PlyProperty(dtype=PlyPrimitiveType(dtype=dtype('float32')), name='z')]),\n",
       " PlyElement(name='face', size=6, properties=[PlyProperty(dtype=PlyListType(size_type=PlyPrimitiveType(dtype=dtype('uint8')), value_type=PlyPrimitiveType(dtype=dtype('int32'))), name='vertex_index')])]"
      ]
     },
     "execution_count": 16,
     "metadata": {},
     "output_type": "execute_result"
    }
   ],
   "source": [
    "parse_bytes(\n",
    "    some(ply_element), \n",
    "    b\"element vertex 8\\nproperty float x\\nproperty float y\\nproperty float z\\n\" +\n",
    "    b\"element face 6\\nproperty list uchar int vertex_index\\n\")"
   ]
  },
  {
   "cell_type": "code",
   "execution_count": 17,
   "metadata": {},
   "outputs": [
    {
     "data": {
      "text/plain": [
       "PlyElement(name='face', size=6, properties=[PlyProperty(dtype=PlyListType(size_type=PlyPrimitiveType(dtype=dtype('uint8')), value_type=PlyPrimitiveType(dtype=dtype('int32'))), name='vertex_index')])"
      ]
     },
     "execution_count": 17,
     "metadata": {},
     "output_type": "execute_result"
    }
   ],
   "source": [
    "parse_bytes(ply_element, b\"element face 6\\nproperty list uchar int vertex_index\\n\")"
   ]
  },
  {
   "cell_type": "code",
   "execution_count": 18,
   "metadata": {},
   "outputs": [],
   "source": [
    "@dataclass\n",
    "class PlyHeader:\n",
    "    format: PlyFormat\n",
    "    comment: List[str]\n",
    "    elements: List[PlyElement]\n",
    "        \n",
    "    def parser(self) -> Parser:\n",
    "        if self.format == PlyFormat.ASCII:\n",
    "            return named_sequence(\n",
    "                **{e.name: e.ascii() for e in self.elements})\n",
    "        if self.format == PlyFormat.BINARY_LE:\n",
    "            return named_sequence(\n",
    "                **{e.name: e.binary() for e in self.elements})\n",
    "        else:\n",
    "            raise NotImplementedError()\n",
    "\n",
    "ply_header = named_sequence(\n",
    "    _1=ply_magic_number,\n",
    "    format=ply_format,\n",
    "    comment=many(ply_comment),\n",
    "    elements=some(ply_element),\n",
    "    _2=sequence(text_literal(\"end_header\"), eol)) >> construct(PlyHeader)\n",
    "\n",
    "def ply_data(header):\n",
    "    return named_sequence(header=value(header), data=header.parser())\n",
    "\n",
    "ply_file = ply_header >> ply_data"
   ]
  },
  {
   "cell_type": "markdown",
   "metadata": {},
   "source": [
    "The following ASCII example is given on Paul Bourke's page."
   ]
  },
  {
   "cell_type": "code",
   "execution_count": 19,
   "metadata": {},
   "outputs": [],
   "source": [
    "ascii_example = b\"\"\"ply\n",
    "format ascii 1.0\n",
    "comment made by Greg Turk\n",
    "comment this file is a cube\n",
    "element vertex 8\n",
    "property float x\n",
    "property float y\n",
    "property float z\n",
    "element face 6\n",
    "property list uchar int vertex_index\n",
    "end_header\n",
    "0 0 0\n",
    "0 0 1\n",
    "0 1 1\n",
    "0 1 0\n",
    "1 0 0\n",
    "1 0 1\n",
    "1 1 1\n",
    "1 1 0\n",
    "4 0 1 2 3\n",
    "4 7 6 5 4\n",
    "4 0 4 5 1\n",
    "4 1 5 6 2\n",
    "4 2 6 7 3\n",
    "4 3 7 4 0\n",
    "\"\"\""
   ]
  },
  {
   "cell_type": "code",
   "execution_count": 20,
   "metadata": {},
   "outputs": [
    {
     "name": "stdout",
     "output_type": "stream",
     "text": [
      "PlyHeader(format=<PlyFormat.ASCII: 1>, comment=['made by Greg Turk', 'this file is a cube'], elements=[PlyElement(name='vertex', size=8, properties=[PlyProperty(dtype=PlyPrimitiveType(dtype=dtype('float32')), name='x'), PlyProperty(dtype=PlyPrimitiveType(dtype=dtype('float32')), name='y'), PlyProperty(dtype=PlyPrimitiveType(dtype=dtype('float32')), name='z')]), PlyElement(name='face', size=6, properties=[PlyProperty(dtype=PlyListType(size_type=PlyPrimitiveType(dtype=dtype('uint8')), value_type=PlyPrimitiveType(dtype=dtype('int32'))), name='vertex_index')])])\n"
     ]
    }
   ],
   "source": [
    "pp.pprint(parse_bytes(ply_header, ascii_example))"
   ]
  },
  {
   "cell_type": "markdown",
   "metadata": {},
   "source": [
    "No for the fun part! The header that we read actually encodes the parser for the rest of the file!"
   ]
  },
  {
   "cell_type": "code",
   "execution_count": 21,
   "metadata": {},
   "outputs": [
    {
     "name": "stdout",
     "output_type": "stream",
     "text": [
      "{ 'data': { 'face': [ {'vertex_index': [0, 1, 2, 3]},\n",
      "                      {'vertex_index': [7, 6, 5, 4]},\n",
      "                      {'vertex_index': [0, 4, 5, 1]},\n",
      "                      {'vertex_index': [1, 5, 6, 2]},\n",
      "                      {'vertex_index': [2, 6, 7, 3]},\n",
      "                      {'vertex_index': [3, 7, 4, 0]}],\n",
      "            'vertex': [ {'x': 0.0, 'y': 0.0, 'z': 0.0},\n",
      "                        {'x': 0.0, 'y': 0.0, 'z': 1.0},\n",
      "                        {'x': 0.0, 'y': 1.0, 'z': 1.0},\n",
      "                        {'x': 0.0, 'y': 1.0, 'z': 0.0},\n",
      "                        {'x': 1.0, 'y': 0.0, 'z': 0.0},\n",
      "                        {'x': 1.0, 'y': 0.0, 'z': 1.0},\n",
      "                        {'x': 1.0, 'y': 1.0, 'z': 1.0},\n",
      "                        {'x': 1.0, 'y': 1.0, 'z': 0.0}]},\n",
      "  'header': PlyHeader(format=<PlyFormat.ASCII: 1>, comment=['made by Greg Turk', 'this file is a cube'], elements=[PlyElement(name='vertex', size=8, properties=[PlyProperty(dtype=PlyPrimitiveType(dtype=dtype('float32')), name='x'), PlyProperty(dtype=PlyPrimitiveType(dtype=dtype('float32')), name='y'), PlyProperty(dtype=PlyPrimitiveType(dtype=dtype('float32')), name='z')]), PlyElement(name='face', size=6, properties=[PlyProperty(dtype=PlyListType(size_type=PlyPrimitiveType(dtype=dtype('uint8')), value_type=PlyPrimitiveType(dtype=dtype('int32'))), name='vertex_index')])])}\n"
     ]
    }
   ],
   "source": [
    "pp.pprint(parse_bytes(ply_file, ascii_example))"
   ]
  },
  {
   "cell_type": "markdown",
   "metadata": {},
   "source": [
    "## The Stanford Bunny\n",
    "Now that we have the capability to parse binary PLY files, we can load the Stanford Bunny. For visualisation purposes it helps to know that all faces in this file are triangles."
   ]
  },
  {
   "cell_type": "code",
   "execution_count": 22,
   "metadata": {},
   "outputs": [],
   "source": [
    "from pathlib import Path\n",
    "\n",
    "bunny = parse_bytes(ply_file, Path(\"_static/stanford_bunny.ply\").open(mode=\"rb\").read())"
   ]
  },
  {
   "cell_type": "code",
   "execution_count": 25,
   "metadata": {},
   "outputs": [
    {
     "data": {
      "application/vnd.jupyter.widget-view+json": {
       "model_id": "11ab5f28aa2949328b6ced1bb19b82a7",
       "version_major": 2,
       "version_minor": 0
      },
      "text/plain": [
       "VBox(children=(Figure(camera=PerspectiveCamera(fov=46.0, position=(0.0, 0.0, 2.0), projectionMatrix=(1.0, 0.0,…"
      ]
     },
     "metadata": {},
     "output_type": "display_data"
    }
   ],
   "source": [
    "import ipyvolume as ipv\n",
    "\n",
    "v = bunny[\"data\"][\"vertex\"]\n",
    "t = np.array([f[\"vertex_indices\"] for f in bunny[\"data\"][\"face\"]])\n",
    "ipv.figure()\n",
    "mesh = ipv.plot_trisurf(v[\"x\"], v[\"y\"], v[\"z\"], triangles=t, color=\"#5588ee\")\n",
    "ipv.xlim(-0.1, 0.05)\n",
    "ipv.zlim(-0.075, 0.075)\n",
    "ipv.ylim(0.03, 0.18)\n",
    "ipv.pylab.style.box_off()\n",
    "ipv.pylab.style.axes_off()\n",
    "ipv.show()"
   ]
  },
  {
   "cell_type": "markdown",
   "metadata": {},
   "source": [
    "![The bunny](_static/stanford_bunny.png)"
   ]
  },
  {
   "cell_type": "code",
   "execution_count": null,
   "metadata": {},
   "outputs": [],
   "source": []
  }
 ],
 "metadata": {
  "kernelspec": {
   "display_name": "Python 3",
   "language": "python",
   "name": "python3"
  },
  "language_info": {
   "codemirror_mode": {
    "name": "ipython",
    "version": 3
   },
   "file_extension": ".py",
   "mimetype": "text/x-python",
   "name": "python",
   "nbconvert_exporter": "python",
   "pygments_lexer": "ipython3",
   "version": "3.9.1"
  }
 },
 "nbformat": 4,
 "nbformat_minor": 4
}
