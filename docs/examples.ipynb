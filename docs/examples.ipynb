{
 "cells": [
  {
   "cell_type": "markdown",
   "metadata": {},
   "source": [
    "# Examples of usage\n",
    "\n",
    "In this section we'll show several examples of usage of the `byteparsing` package.\n",
    "\n",
    "For now, we'll import all the parsers."
   ]
  },
  {
   "cell_type": "code",
   "execution_count": 1,
   "metadata": {},
   "outputs": [],
   "source": [
    "from byteparsing.parsers import *"
   ]
  },
  {
   "cell_type": "markdown",
   "metadata": {},
   "source": [
    "## Simple email address parser\n",
    "\n",
    "An email address typically contains three pieces of information:\n",
    "\n",
    "- Username\n",
    "- Host\n",
    "\n",
    "This information is easy to parse with the naked eye:\n",
    "\n",
    "```sh\n",
    "[username]@[host]\n",
    "```\n",
    "\n",
    "A parser, of course, has no eyes. \n",
    "Nor common sense. \n",
    "So we'll need to use some explicit instructions.\n",
    "What about the following?\n",
    "\n",
    "0. Keep in mind that not all chars are valid for an email.\n",
    "1. The first email-valid chars constitute the `user` field. It should contain at least one char.\n",
    "2. After the `user` field we expect an \"@\". We check that it is there, and we ignore it.\n",
    "3. The next email-valid chars after the \"@\" correspond to the `host` field. It should contain at least one char.\n",
    "\n",
    "In the example below, you can see the implementation of this algorithm."
   ]
  },
  {
   "cell_type": "code",
   "execution_count": 2,
   "metadata": {},
   "outputs": [],
   "source": [
    "# First, we define what charachters are acceptable on an email (email-valid chars)\n",
    "email_char = choice(ascii_alpha_num, ascii_underscore, text_literal(\".\"), text_literal(\"-\"))\n",
    "\n",
    "# We abstract the information contained in an email as:\n",
    "# [username]@[host]\n",
    "email = named_sequence(\n",
    "            user=some_char(email_char), # Step 1\n",
    "            _1=text_literal(\"@\"), # Step 2\n",
    "            host=some_char(email_char) # Step 3\n",
    "        )\n",
    "\n",
    "# Notice that we ignore the \"@\" by assigning it to the field \"_1\".\n",
    "# Why not use just \"_\"? Because we need these fields to be unique.\n",
    "# In case we had more than one ignored value, we recommend to use\n",
    "# _1, _2, and so on for the ignored fields."
   ]
  },
  {
   "cell_type": "markdown",
   "metadata": {},
   "source": [
    "Let's apply to a made-up email address and see if it works:"
   ]
  },
  {
   "cell_type": "code",
   "execution_count": 3,
   "metadata": {},
   "outputs": [
    {
     "name": "stdout",
     "output_type": "stream",
     "text": [
      "{'user': b'p.rodriguez-sanchez', 'host': b'esciencecenter.nl'}\n"
     ]
    }
   ],
   "source": [
    "parsed = parse_bytes(email, b'p.rodriguez-sanchez@esciencecenter.nl')\n",
    "\n",
    "print(parsed)"
   ]
  },
  {
   "cell_type": "markdown",
   "metadata": {},
   "source": [
    "Notice that we used the `parse_bytes` method to actually apply the parser.\n",
    "We'll use this method very often, so it is good to stop for a moment and reflect about its structure.\n",
    "Typically, `parse_bytes` will take two arguments as an input:\n",
    "\n",
    "1. A parser, indicating the kind of data we expect.\n",
    "2. The data itself.\n",
    "\n",
    "The output will be the parsed data."
   ]
  },
  {
   "cell_type": "markdown",
   "metadata": {},
   "source": [
    "## More advanced email address parsers"
   ]
  },
  {
   "cell_type": "markdown",
   "metadata": {},
   "source": [
    "### More detailed fields\n",
    "\n",
    "The information contained in an email address can be further dissected.\n",
    "For instance, the `host` information can be split in `server` and `country` code.\n",
    "That is:\n",
    "\n",
    "[username]@[server].[country]\n",
    "\n",
    "We can create a more detailed parser that splits strings wherever it finds a dot.\n",
    "\n",
    "In order to do this, we first have to redefine the set of acceptable email chars, to not include the dot anymore."
   ]
  },
  {
   "cell_type": "code",
   "execution_count": 4,
   "metadata": {},
   "outputs": [],
   "source": [
    "email_char = choice(ascii_alpha_num, ascii_underscore, text_literal(\"-\"))"
   ]
  },
  {
   "cell_type": "markdown",
   "metadata": {},
   "source": [
    "Now, we can use the parser below to dissect email components."
   ]
  },
  {
   "cell_type": "code",
   "execution_count": 5,
   "metadata": {},
   "outputs": [],
   "source": [
    "email_component = sep_by(some_char(email_char, lambda b: b.decode()), text_literal(\".\"))"
   ]
  },
  {
   "cell_type": "markdown",
   "metadata": {},
   "source": [
    "Let's build the improved parser."
   ]
  },
  {
   "cell_type": "code",
   "execution_count": 6,
   "metadata": {},
   "outputs": [],
   "source": [
    "better_email = named_sequence(\n",
    "                user=email_component,\n",
    "                _1=text_literal(\"@\"),\n",
    "                host=email_component\n",
    "                )"
   ]
  },
  {
   "cell_type": "markdown",
   "metadata": {},
   "source": [
    "And try it:"
   ]
  },
  {
   "cell_type": "code",
   "execution_count": 7,
   "metadata": {},
   "outputs": [],
   "source": [
    "my_email = parse_bytes(better_email,\n",
    "            b\"pablo.rodriguez-sanchez@esciencecenter.nl\")"
   ]
  },
  {
   "cell_type": "markdown",
   "metadata": {},
   "source": [
    "The output is a dictionary containing the dissected parts of the email."
   ]
  },
  {
   "cell_type": "code",
   "execution_count": 8,
   "metadata": {},
   "outputs": [
    {
     "name": "stdout",
     "output_type": "stream",
     "text": [
      "{'user': ['pablo', 'rodriguez-sanchez'], 'host': ['esciencecenter', 'nl']}\n"
     ]
    }
   ],
   "source": [
    "print(my_email)"
   ]
  },
  {
   "cell_type": "markdown",
   "metadata": {},
   "source": [
    "#### Pro tip: construct a data class\n",
    "\n",
    "We can use the dictionary to create an instance of a data class.\n",
    "As we will see, this will allow for maximum flexibility.\n",
    "\n",
    "First, we create a data class representing an email address."
   ]
  },
  {
   "cell_type": "code",
   "execution_count": 9,
   "metadata": {},
   "outputs": [],
   "source": [
    "from dataclasses import dataclass\n",
    "\n",
    "@dataclass\n",
    "class Email:\n",
    "    user: List[str]\n",
    "    host: List[str]\n",
    "        \n",
    "    @property\n",
    "    def country(self):\n",
    "        \"\"\"Return the country code\"\"\"\n",
    "        return self.host[-1]\n",
    "\n",
    "    def __str__(self):\n",
    "        \"\"\"Prints the email in a human-readable fashion\"\"\"\n",
    "        return \".\".join(self.user) + \"@\" + \".\".join(self.host)"
   ]
  },
  {
   "cell_type": "markdown",
   "metadata": {},
   "source": [
    "The `construct` method pipes the output directly into the class constructor"
   ]
  },
  {
   "cell_type": "code",
   "execution_count": 10,
   "metadata": {},
   "outputs": [],
   "source": [
    "even_better_email = named_sequence(\n",
    "                        user=email_component,\n",
    "                        _1=text_literal(\"@\"),\n",
    "                        host=email_component\n",
    "                    ) >> construct(Email)"
   ]
  },
  {
   "cell_type": "markdown",
   "metadata": {},
   "source": [
    "Let's try it:"
   ]
  },
  {
   "cell_type": "code",
   "execution_count": 11,
   "metadata": {},
   "outputs": [
    {
     "data": {
      "text/plain": [
       "'pablo.rodriguez-sanchez@esciencecenter.nl'"
      ]
     },
     "execution_count": 11,
     "metadata": {},
     "output_type": "execute_result"
    }
   ],
   "source": [
    "my_email = parse_bytes(even_better_email,\n",
    "            b\"pablo.rodriguez-sanchez@esciencecenter.nl\")\n",
    "\n",
    "str(my_email)"
   ]
  },
  {
   "cell_type": "markdown",
   "metadata": {},
   "source": [
    "The output is an instance of the class `Email`."
   ]
  },
  {
   "cell_type": "code",
   "execution_count": 12,
   "metadata": {},
   "outputs": [
    {
     "data": {
      "text/plain": [
       "Email(user=['pablo', 'rodriguez-sanchez'], host=['esciencecenter', 'nl'])"
      ]
     },
     "execution_count": 12,
     "metadata": {},
     "output_type": "execute_result"
    }
   ],
   "source": [
    "my_email"
   ]
  },
  {
   "cell_type": "markdown",
   "metadata": {},
   "source": [
    "We can of course use the class' methods:"
   ]
  },
  {
   "cell_type": "code",
   "execution_count": 13,
   "metadata": {},
   "outputs": [
    {
     "data": {
      "text/plain": [
       "'pablo.rodriguez-sanchez@esciencecenter.nl'"
      ]
     },
     "execution_count": 13,
     "metadata": {},
     "output_type": "execute_result"
    }
   ],
   "source": [
    "str(my_email)"
   ]
  },
  {
   "cell_type": "code",
   "execution_count": 14,
   "metadata": {},
   "outputs": [
    {
     "data": {
      "text/plain": [
       "'nl'"
      ]
     },
     "execution_count": 14,
     "metadata": {},
     "output_type": "execute_result"
    }
   ],
   "source": [
    "my_email.country"
   ]
  },
  {
   "cell_type": "markdown",
   "metadata": {},
   "source": [
    "### Parse a list of emails\n",
    "\n",
    "Imagine now we want to parse several email addresses from a file containing the information below.\n",
    "Notice that each email address is separated by an end-of-line char."
   ]
  },
  {
   "cell_type": "code",
   "execution_count": 15,
   "metadata": {},
   "outputs": [],
   "source": [
    "data = b\"j.hidding@esciencecenter.nl\\np.rodriguez-sanchez@esciencencenter.nl\""
   ]
  },
  {
   "cell_type": "markdown",
   "metadata": {},
   "source": [
    "The following parser will be helpful for dealing with end-of-line chars, because they are encoded differently depending on the OS."
   ]
  },
  {
   "cell_type": "code",
   "execution_count": 16,
   "metadata": {},
   "outputs": [],
   "source": [
    "eol = choice(text_literal(\"\\n\"), text_literal(\"\\n\\r\"))"
   ]
  },
  {
   "cell_type": "markdown",
   "metadata": {},
   "source": [
    "We can create a parser for a list of emails just by:"
   ]
  },
  {
   "cell_type": "code",
   "execution_count": 17,
   "metadata": {},
   "outputs": [],
   "source": [
    "list_of_emails = sep_by(even_better_email, eol)"
   ]
  },
  {
   "cell_type": "markdown",
   "metadata": {},
   "source": [
    "Let's try it:"
   ]
  },
  {
   "cell_type": "code",
   "execution_count": 18,
   "metadata": {},
   "outputs": [],
   "source": [
    "our_emails = parse_bytes(list_of_emails, data)"
   ]
  },
  {
   "cell_type": "markdown",
   "metadata": {},
   "source": [
    "It returns a list of instances of the class `Email`."
   ]
  },
  {
   "cell_type": "code",
   "execution_count": 19,
   "metadata": {},
   "outputs": [
    {
     "data": {
      "text/plain": [
       "[Email(user=['j', 'hidding'], host=['esciencecenter', 'nl']),\n",
       " Email(user=['p', 'rodriguez-sanchez'], host=['esciencencenter', 'nl'])]"
      ]
     },
     "execution_count": 19,
     "metadata": {},
     "output_type": "execute_result"
    }
   ],
   "source": [
    "our_emails"
   ]
  },
  {
   "cell_type": "markdown",
   "metadata": {},
   "source": [
    "And once again, we can access the class' methods:"
   ]
  },
  {
   "cell_type": "code",
   "execution_count": 20,
   "metadata": {},
   "outputs": [
    {
     "name": "stdout",
     "output_type": "stream",
     "text": [
      "j.hidding@esciencecenter.nl\n",
      "nl\n",
      "p.rodriguez-sanchez@esciencencenter.nl\n",
      "nl\n"
     ]
    }
   ],
   "source": [
    "for email in our_emails:\n",
    "    print(email)\n",
    "    print(email.country)"
   ]
  }
 ],
 "metadata": {
  "kernelspec": {
   "display_name": "Python 3",
   "language": "python",
   "name": "python3"
  },
  "language_info": {
   "codemirror_mode": {
    "name": "ipython",
    "version": 3
   },
   "file_extension": ".py",
   "mimetype": "text/x-python",
   "name": "python",
   "nbconvert_exporter": "python",
   "pygments_lexer": "ipython3",
   "version": "3.7.7"
  }
 },
 "nbformat": 4,
 "nbformat_minor": 4
}
